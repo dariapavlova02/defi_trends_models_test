{
 "cells": [
  {
   "metadata": {},
   "cell_type": "markdown",
   "source": "Download libraries",
   "id": "60f471941e42a323"
  },
  {
   "metadata": {
    "ExecuteTime": {
     "end_time": "2025-04-20T20:46:26.601196Z",
     "start_time": "2025-04-20T20:46:25.592582Z"
    }
   },
   "cell_type": "code",
   "source": [
    "%%capture\n",
    "%pip install python-dotenv requests pandas"
   ],
   "id": "f4ff7250c6c7c336",
   "outputs": [],
   "execution_count": 20
  },
  {
   "metadata": {},
   "cell_type": "markdown",
   "source": "Import API key from the .env file",
   "id": "62061fc3053960c"
  },
  {
   "cell_type": "code",
   "id": "01975e61-ab57-4328-bcc4-3c2fe31daa4c",
   "metadata": {
    "ExecuteTime": {
     "end_time": "2025-04-20T20:38:15.845700Z",
     "start_time": "2025-04-20T20:38:15.827347Z"
    }
   },
   "source": [
    "import os\n",
    "from dotenv import load_dotenv\n",
    "\n",
    "load_dotenv()\n",
    "\n",
    "CMC_API_KEY = os.getenv(\"CMC_API_KEY\")"
   ],
   "outputs": [],
   "execution_count": 19
  },
  {
   "metadata": {},
   "cell_type": "markdown",
   "source": "Send a request to the CoinMarketCap API",
   "id": "f145adf9387e8fc4"
  },
  {
   "metadata": {
    "ExecuteTime": {
     "end_time": "2025-04-20T21:05:31.564385Z",
     "start_time": "2025-04-20T21:05:26.786934Z"
    }
   },
   "cell_type": "code",
   "source": [
    "import requests\n",
    "import pandas as pd\n",
    "\n",
    "response = requests.get(\n",
    "    \"https://pro-api.coinmarketcap.com/v1/global-metrics/quotes/historical\",\n",
    "    headers={\n",
    "        \"X-CMC_PRO_API_KEY\": CMC_API_KEY,\n",
    "    },\n",
    "    params={\n",
    "        \"time_start\": \"2025-03-20T00:00:00Z\",\n",
    "        \"time_end\": \"2025-04-19T00:00:00Z\",\n",
    "        \"interval\": \"5m\",\n",
    "    },\n",
    ")\n",
    "\n",
    "if response.status_code != 200:\n",
    "    raise Exception(f\"Error: {response.status_code} - {response.text}\")\n",
    "\n",
    "data = response.json()[\"data\"][\"quotes\"]\n",
    "df = pd.DataFrame([{\n",
    "        \"timestamp\": q[\"timestamp\"],\n",
    "        **q[\"quote\"][\"USD\"]\n",
    "    } for q in data])\n",
    "df.tail(10)"
   ],
   "id": "da94f8fabf877ab9",
   "outputs": [
    {
     "data": {
      "text/plain": [
       "                     timestamp  total_market_cap  total_volume_24h  \\\n",
       "8631  2025-04-18T23:20:00.000Z      2.660490e+12      4.427403e+10   \n",
       "8632  2025-04-18T23:25:00.000Z      2.660241e+12      4.464964e+10   \n",
       "8633  2025-04-18T23:30:00.000Z      2.661569e+12      4.405892e+10   \n",
       "8634  2025-04-18T23:35:00.000Z      2.662044e+12      4.423893e+10   \n",
       "8635  2025-04-18T23:40:00.000Z      2.662647e+12      4.429146e+10   \n",
       "8636  2025-04-18T23:45:00.000Z      2.663589e+12      4.466339e+10   \n",
       "8637  2025-04-18T23:50:00.000Z      2.663492e+12      4.458681e+10   \n",
       "8638  2025-04-18T23:55:00.000Z      2.662779e+12      4.461812e+10   \n",
       "8639  2025-04-19T00:00:00.000Z      2.663370e+12      4.467855e+10   \n",
       "8640  2025-04-19T00:05:00.000Z      2.663696e+12      4.455600e+10   \n",
       "\n",
       "      total_volume_24h_reported  altcoin_market_cap  altcoin_volume_24h  \\\n",
       "8631               2.679970e+11        9.857119e+11        3.189471e+10   \n",
       "8632               2.682257e+11        9.853354e+11        3.192512e+10   \n",
       "8633               2.685039e+11        9.855550e+11        3.203574e+10   \n",
       "8634               2.688271e+11        9.860132e+11        3.189938e+10   \n",
       "8635               2.688528e+11        9.862613e+11        3.195669e+10   \n",
       "8636               2.689120e+11        9.866787e+11        3.197045e+10   \n",
       "8637               2.690797e+11        9.870101e+11        3.189565e+10   \n",
       "8638               2.691684e+11        9.866987e+11        3.193180e+10   \n",
       "8639               2.693401e+11        9.867543e+11        3.195054e+10   \n",
       "8640               2.675956e+11        9.868494e+11        3.188297e+10   \n",
       "\n",
       "      altcoin_volume_24h_reported  \n",
       "8631                 2.007214e+11  \n",
       "8632                 2.009117e+11  \n",
       "8633                 2.011864e+11  \n",
       "8634                 2.014782e+11  \n",
       "8635                 2.015366e+11  \n",
       "8636                 2.015831e+11  \n",
       "8637                 2.017357e+11  \n",
       "8638                 2.018412e+11  \n",
       "8639                 2.020169e+11  \n",
       "8640                 2.009301e+11  "
      ],
      "text/html": [
       "<div>\n",
       "<style scoped>\n",
       "    .dataframe tbody tr th:only-of-type {\n",
       "        vertical-align: middle;\n",
       "    }\n",
       "\n",
       "    .dataframe tbody tr th {\n",
       "        vertical-align: top;\n",
       "    }\n",
       "\n",
       "    .dataframe thead th {\n",
       "        text-align: right;\n",
       "    }\n",
       "</style>\n",
       "<table border=\"1\" class=\"dataframe\">\n",
       "  <thead>\n",
       "    <tr style=\"text-align: right;\">\n",
       "      <th></th>\n",
       "      <th>timestamp</th>\n",
       "      <th>total_market_cap</th>\n",
       "      <th>total_volume_24h</th>\n",
       "      <th>total_volume_24h_reported</th>\n",
       "      <th>altcoin_market_cap</th>\n",
       "      <th>altcoin_volume_24h</th>\n",
       "      <th>altcoin_volume_24h_reported</th>\n",
       "    </tr>\n",
       "  </thead>\n",
       "  <tbody>\n",
       "    <tr>\n",
       "      <th>8631</th>\n",
       "      <td>2025-04-18T23:20:00.000Z</td>\n",
       "      <td>2.660490e+12</td>\n",
       "      <td>4.427403e+10</td>\n",
       "      <td>2.679970e+11</td>\n",
       "      <td>9.857119e+11</td>\n",
       "      <td>3.189471e+10</td>\n",
       "      <td>2.007214e+11</td>\n",
       "    </tr>\n",
       "    <tr>\n",
       "      <th>8632</th>\n",
       "      <td>2025-04-18T23:25:00.000Z</td>\n",
       "      <td>2.660241e+12</td>\n",
       "      <td>4.464964e+10</td>\n",
       "      <td>2.682257e+11</td>\n",
       "      <td>9.853354e+11</td>\n",
       "      <td>3.192512e+10</td>\n",
       "      <td>2.009117e+11</td>\n",
       "    </tr>\n",
       "    <tr>\n",
       "      <th>8633</th>\n",
       "      <td>2025-04-18T23:30:00.000Z</td>\n",
       "      <td>2.661569e+12</td>\n",
       "      <td>4.405892e+10</td>\n",
       "      <td>2.685039e+11</td>\n",
       "      <td>9.855550e+11</td>\n",
       "      <td>3.203574e+10</td>\n",
       "      <td>2.011864e+11</td>\n",
       "    </tr>\n",
       "    <tr>\n",
       "      <th>8634</th>\n",
       "      <td>2025-04-18T23:35:00.000Z</td>\n",
       "      <td>2.662044e+12</td>\n",
       "      <td>4.423893e+10</td>\n",
       "      <td>2.688271e+11</td>\n",
       "      <td>9.860132e+11</td>\n",
       "      <td>3.189938e+10</td>\n",
       "      <td>2.014782e+11</td>\n",
       "    </tr>\n",
       "    <tr>\n",
       "      <th>8635</th>\n",
       "      <td>2025-04-18T23:40:00.000Z</td>\n",
       "      <td>2.662647e+12</td>\n",
       "      <td>4.429146e+10</td>\n",
       "      <td>2.688528e+11</td>\n",
       "      <td>9.862613e+11</td>\n",
       "      <td>3.195669e+10</td>\n",
       "      <td>2.015366e+11</td>\n",
       "    </tr>\n",
       "    <tr>\n",
       "      <th>8636</th>\n",
       "      <td>2025-04-18T23:45:00.000Z</td>\n",
       "      <td>2.663589e+12</td>\n",
       "      <td>4.466339e+10</td>\n",
       "      <td>2.689120e+11</td>\n",
       "      <td>9.866787e+11</td>\n",
       "      <td>3.197045e+10</td>\n",
       "      <td>2.015831e+11</td>\n",
       "    </tr>\n",
       "    <tr>\n",
       "      <th>8637</th>\n",
       "      <td>2025-04-18T23:50:00.000Z</td>\n",
       "      <td>2.663492e+12</td>\n",
       "      <td>4.458681e+10</td>\n",
       "      <td>2.690797e+11</td>\n",
       "      <td>9.870101e+11</td>\n",
       "      <td>3.189565e+10</td>\n",
       "      <td>2.017357e+11</td>\n",
       "    </tr>\n",
       "    <tr>\n",
       "      <th>8638</th>\n",
       "      <td>2025-04-18T23:55:00.000Z</td>\n",
       "      <td>2.662779e+12</td>\n",
       "      <td>4.461812e+10</td>\n",
       "      <td>2.691684e+11</td>\n",
       "      <td>9.866987e+11</td>\n",
       "      <td>3.193180e+10</td>\n",
       "      <td>2.018412e+11</td>\n",
       "    </tr>\n",
       "    <tr>\n",
       "      <th>8639</th>\n",
       "      <td>2025-04-19T00:00:00.000Z</td>\n",
       "      <td>2.663370e+12</td>\n",
       "      <td>4.467855e+10</td>\n",
       "      <td>2.693401e+11</td>\n",
       "      <td>9.867543e+11</td>\n",
       "      <td>3.195054e+10</td>\n",
       "      <td>2.020169e+11</td>\n",
       "    </tr>\n",
       "    <tr>\n",
       "      <th>8640</th>\n",
       "      <td>2025-04-19T00:05:00.000Z</td>\n",
       "      <td>2.663696e+12</td>\n",
       "      <td>4.455600e+10</td>\n",
       "      <td>2.675956e+11</td>\n",
       "      <td>9.868494e+11</td>\n",
       "      <td>3.188297e+10</td>\n",
       "      <td>2.009301e+11</td>\n",
       "    </tr>\n",
       "  </tbody>\n",
       "</table>\n",
       "</div>"
      ]
     },
     "execution_count": 24,
     "metadata": {},
     "output_type": "execute_result"
    }
   ],
   "execution_count": 24
  },
  {
   "metadata": {},
   "cell_type": "markdown",
   "source": "Loading the data into CSV file",
   "id": "6e9868b47fa50e0c"
  },
  {
   "metadata": {
    "ExecuteTime": {
     "end_time": "2025-04-20T21:08:34.185646Z",
     "start_time": "2025-04-20T21:08:34.120982Z"
    }
   },
   "cell_type": "code",
   "source": [
    "df.to_csv(\"cmc_market_hourly.csv\", index=False)\n",
    "print(\"Data saved to cmc_market_hourly.csv\")"
   ],
   "id": "d3f68ba88fae73d4",
   "outputs": [
    {
     "name": "stdout",
     "output_type": "stream",
     "text": [
      "Data saved to cmc_market_hourly.csv\n"
     ]
    }
   ],
   "execution_count": 25
  },
  {
   "metadata": {
    "ExecuteTime": {
     "end_time": "2025-04-21T19:06:16.549007Z",
     "start_time": "2025-04-21T19:06:15.915876Z"
    }
   },
   "cell_type": "code",
   "source": [
    "response = requests.get(\n",
    "    \"https://pro-api.coinmarketcap.com/v3/fear-and-greed/historical\",\n",
    "    headers={\n",
    "        \"X-CMC_PRO_API_KEY\": CMC_API_KEY,\n",
    "    },\n",
    "    params={\n",
    "        \"limit\": 500\n",
    "    },\n",
    ")\n",
    "\n",
    "if response.status_code != 200:\n",
    "    raise Exception(f\"Error: {response.status_code} - {response.text}\")\n",
    "\n",
    "data = response.json()[\"data\"]\n",
    "df = pd.DataFrame([{\n",
    "        \"timestamp\": q[\"timestamp\"],\n",
    "        **q\n",
    "    } for q in data])\n",
    "df.tail(10)"
   ],
   "id": "8b8434bab1ccce55",
   "outputs": [
    {
     "data": {
      "text/plain": [
       "      timestamp  value value_classification\n",
       "490  1702771200     73                Greed\n",
       "491  1702684800     73                Greed\n",
       "492  1702598400     77                Greed\n",
       "493  1702512000     76                Greed\n",
       "494  1702425600     73                Greed\n",
       "495  1702339200     74                Greed\n",
       "496  1702252800     80        Extreme greed\n",
       "497  1702166400     80        Extreme greed\n",
       "498  1702080000     82        Extreme greed\n",
       "499  1701993600     81        Extreme greed"
      ],
      "text/html": [
       "<div>\n",
       "<style scoped>\n",
       "    .dataframe tbody tr th:only-of-type {\n",
       "        vertical-align: middle;\n",
       "    }\n",
       "\n",
       "    .dataframe tbody tr th {\n",
       "        vertical-align: top;\n",
       "    }\n",
       "\n",
       "    .dataframe thead th {\n",
       "        text-align: right;\n",
       "    }\n",
       "</style>\n",
       "<table border=\"1\" class=\"dataframe\">\n",
       "  <thead>\n",
       "    <tr style=\"text-align: right;\">\n",
       "      <th></th>\n",
       "      <th>timestamp</th>\n",
       "      <th>value</th>\n",
       "      <th>value_classification</th>\n",
       "    </tr>\n",
       "  </thead>\n",
       "  <tbody>\n",
       "    <tr>\n",
       "      <th>490</th>\n",
       "      <td>1702771200</td>\n",
       "      <td>73</td>\n",
       "      <td>Greed</td>\n",
       "    </tr>\n",
       "    <tr>\n",
       "      <th>491</th>\n",
       "      <td>1702684800</td>\n",
       "      <td>73</td>\n",
       "      <td>Greed</td>\n",
       "    </tr>\n",
       "    <tr>\n",
       "      <th>492</th>\n",
       "      <td>1702598400</td>\n",
       "      <td>77</td>\n",
       "      <td>Greed</td>\n",
       "    </tr>\n",
       "    <tr>\n",
       "      <th>493</th>\n",
       "      <td>1702512000</td>\n",
       "      <td>76</td>\n",
       "      <td>Greed</td>\n",
       "    </tr>\n",
       "    <tr>\n",
       "      <th>494</th>\n",
       "      <td>1702425600</td>\n",
       "      <td>73</td>\n",
       "      <td>Greed</td>\n",
       "    </tr>\n",
       "    <tr>\n",
       "      <th>495</th>\n",
       "      <td>1702339200</td>\n",
       "      <td>74</td>\n",
       "      <td>Greed</td>\n",
       "    </tr>\n",
       "    <tr>\n",
       "      <th>496</th>\n",
       "      <td>1702252800</td>\n",
       "      <td>80</td>\n",
       "      <td>Extreme greed</td>\n",
       "    </tr>\n",
       "    <tr>\n",
       "      <th>497</th>\n",
       "      <td>1702166400</td>\n",
       "      <td>80</td>\n",
       "      <td>Extreme greed</td>\n",
       "    </tr>\n",
       "    <tr>\n",
       "      <th>498</th>\n",
       "      <td>1702080000</td>\n",
       "      <td>82</td>\n",
       "      <td>Extreme greed</td>\n",
       "    </tr>\n",
       "    <tr>\n",
       "      <th>499</th>\n",
       "      <td>1701993600</td>\n",
       "      <td>81</td>\n",
       "      <td>Extreme greed</td>\n",
       "    </tr>\n",
       "  </tbody>\n",
       "</table>\n",
       "</div>"
      ]
     },
     "execution_count": 30,
     "metadata": {},
     "output_type": "execute_result"
    }
   ],
   "execution_count": 30
  },
  {
   "metadata": {
    "ExecuteTime": {
     "end_time": "2025-04-21T19:06:45.279678Z",
     "start_time": "2025-04-21T19:06:45.263443Z"
    }
   },
   "cell_type": "code",
   "source": [
    "df.to_csv(\"cmc_fear_and_greed.csv\", index=False)\n",
    "print(\"Data saved to cmc_fear_and_greed.csv\")"
   ],
   "id": "e4a81687d639b65",
   "outputs": [
    {
     "name": "stdout",
     "output_type": "stream",
     "text": [
      "Data saved to cmc_fear_and_greed.csv\n"
     ]
    }
   ],
   "execution_count": 31
  }
 ],
 "metadata": {
  "kernelspec": {
   "display_name": "Python (myenv)",
   "language": "python",
   "name": "myenv"
  },
  "language_info": {
   "name": ""
  }
 },
 "nbformat": 4,
 "nbformat_minor": 5
}
